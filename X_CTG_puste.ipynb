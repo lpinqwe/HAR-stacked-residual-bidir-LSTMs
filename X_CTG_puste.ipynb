{
  "nbformat": 4,
  "nbformat_minor": 0,
  "metadata": {
    "colab": {
      "provenance": [],
      "include_colab_link": true
    },
    "kernelspec": {
      "name": "python3",
      "display_name": "Python 3"
    },
    "language_info": {
      "name": "python"
    }
  },
  "cells": [
    {
      "cell_type": "markdown",
      "metadata": {
        "id": "view-in-github",
        "colab_type": "text"
      },
      "source": [
        "<a href=\"https://colab.research.google.com/github/lpinqwe/HAR-stacked-residual-bidir-LSTMs/blob/master/X_CTG_puste.ipynb\" target=\"_parent\"><img src=\"https://colab.research.google.com/assets/colab-badge.svg\" alt=\"Open In Colab\"/></a>"
      ]
    },
    {
      "cell_type": "markdown",
      "source": [
        "Na dobry początek napiszemy funkcję która będzie szacowała liczbę sukcesów w ciągu prób Bernoulliego na podstawie twierdzenia Poissona. Dla przypomnienia twiedzenie to mówi, że jeżeli mamy ciągi $n$, $p_n$ i $np_n$ z granicami $n \\rightarrow \\infty$, $p_n \\rightarrow 0$ i $np_n \\rightarrow \\lambda$ to $$ \\binom{n}{k}p_n^k(1-p_n)^{n-k} \\rightarrow_{n\\rightarrow \\infty} \\frac{\\lambda^k}{k!}e^{-\\lambda} .$$ Innymi słowy jeżeli mamy odpowiednio duże $n$ przy stosunkowo małym $p$ to wyliczenie prawdopodobieństwa uzyskania dokładnie $k$ sukcesów w $n$ niezależnych próbach Bernoulliego można zastąpić wyliczeniem prawdopodobienstwem otrzymania wartości $k$ w rozkładzie Poissona z parametrem $\\lambda = np$. Zatem nasza pierwsza funkcja ma za zadanie przyjąć oczekiwaną liczbę prób, prawdopodobieństwo sukcesu, a także szukaną liczbę sukcesów i wyznaczyć odpowiednią wartość z rozkładu Poissona."
      ],
      "metadata": {
        "id": "cssnOlsXOiu5"
      }
    },
    {
      "cell_type": "code",
      "execution_count": null,
      "metadata": {
        "id": "3DF4AXl67hTn"
      },
      "outputs": [],
      "source": [
        "from scipy.stats import norm\n",
        "from math import exp, sqrt, factorial\n",
        "inf = float('inf')\n",
        "\n",
        "def poisson(n, p, k):\n",
        "  #n liczba prób; p prawdopodobieństwo sukcesu; k liczba szukanych sukcesów\n",
        "  return #szacowane prawdopodobieństwo uzyskania danej liczby sukcesów w schemacie Bernoulliego na podstawie szacowania z twierdzenia Poissona\n",
        "#przykład zastosowania poisson(10000000,0.00000007,1) daje wynik 0.34760971265398666"
      ]
    },
    {
      "cell_type": "markdown",
      "source": [
        "Twierdzenie Poissona miało również wersję która pozwalała nam określić dokładność naszego oszacowania, nie tylko dla jednej konkretnej liczby sukcesów, ale dla dowolnego podzbioru lliczby możliwych sukcesów. Dla przypomnienia zakładaliśmy, że zmienna losowa $S_n$ posiada rozkład Bernoulliego z parametrami $n$ i $p$, oraz, że $\\lambda =np$. Wtedy dla dowolnego zbioru $B \\subset \\{ 0,1,2,...\\} $ mamy $$ {\\huge |} P(S_n \\in B) - \\sum_{k \\in B} \\frac{\\lambda^k}{k!} e^{-\\lambda} {\\huge |} \\leq \\frac{\\lambda^2}{n} .$$ Praktycznie zatem mamy oszacowanie na to na ile dokłady jest nasz wynik przy zadanych parametrach. Następna funkcja jest dodatkowa i ma za zadanie wykożystać właśnie to twierdzenie. Na wejściu mamy podać parametry rozkładu $n$, $p$, nie pojedynczą wartość liczby sukcesów ale (potencjalnie) całą listę interesujących nas wartości i następnie wyznaczyć szacowanie przez rozkład Poissona prawopodobieństwa otrzymania liczby sukcesów z tej listy, oraz dokładność naszego przybliżenia (czyli $\\lambda^2/n$)."
      ],
      "metadata": {
        "id": "GW4ezMGXOjuA"
      }
    },
    {
      "cell_type": "code",
      "source": [
        "def poisson_ext(n,p,k):#dod\n",
        "  #n liczba prób; p prawdopodobieństwo sukcesu; k lista ilości szukanych sukcesów\n",
        "  return #para: prawdopodobieństwo otrzymania liczby sukcesów podanej w liście oraz błąd oszacowania\n",
        "#przykład zastosowania poisson_ext(10000000,0.00000007,[0,1,2]) daje parę (0.9658584158742916,0.000000049)"
      ],
      "metadata": {
        "id": "Y34Vg_lGOj8I"
      },
      "execution_count": null,
      "outputs": []
    },
    {
      "cell_type": "markdown",
      "source": [
        "Kolejną funkcją którą mamy stworzyć oparta jest o Centralne Twierdzenie Graniczne. Niech $,X_1,X_2,...$ będą niezależnymi zmiennymi losowymi o tym samym rozkładzie, wartości oczekiwanej $m$ i wariancji $\\sigma^2 >0$. Wtedy dla każdego $t$ $$ P(\\frac{X_1+...+X_n -nm}{\\sigma \\sqrt{n}} \\leq t) \\rightarrow_{n \\rightarrow \\infty} \\Phi (t) ,$$ gdzie $\\Phi (t)$ jest dystrybuantą rozkładu normalnego o wartości oczekiwanej 0 i wariancji 1. Innymi słowy jeżeli chcemy, oczacować prawdopodobieństwo z jakim suma naszych niezależnych zmiennych losowych trafi do pewnego przedziału $[a,b]$ ($a$ i $b$ mogą w szczególności przyjąć wartości odpowiednio minus i plus nieskończoność), to wystarczy nam policzyć dystrybuantę rozkładu normalnego $\\mathcal{N} (0,1)$ w punktach $\\frac{b-nm}{\\sigma\\sqrt{n}}$ i $\\frac{a-nm}{\\sigma \\sqrt{n}} $ i te wartości od siebie odjąć(w celu liczenia wartości dystrybuanty w danym punkcie używamy funkcji $norm.cdf$). Tym samym do funkcji mamy podać liczbę zmiennych $n$, ich wartość oczekiwaną $m$, odchylenie standardowe $s$ (które jest pierwiastkiem z wariancji), oraz ograniczenia przediału który nas interesuje.    "
      ],
      "metadata": {
        "id": "xSPCD_p2OkR3"
      }
    },
    {
      "cell_type": "code",
      "source": [
        "def CTG(n,m,s,d=-inf ,g=inf):\n",
        "  #n liczba zmiennych, m- wartość oczekiwana zmiennych, s- odchylenie standardowe zmiennych, d -dolne ograniczenie, g- górne ograniczenie\n",
        "  return #szacowane prawdopodobieństwo tego że suma podanych n niezależnych zmiennych losowych wpadnie w przedział od d do g na podstawie centralnego twierdzenia granicznego\n",
        "#przykład zastosowania CTG(400,0.3,sqrt(0.3*0.7), d=130) daje wynik 0.13761676203741713"
      ],
      "metadata": {
        "id": "x4tzqBF1Okf_"
      },
      "execution_count": null,
      "outputs": []
    }
  ]
}